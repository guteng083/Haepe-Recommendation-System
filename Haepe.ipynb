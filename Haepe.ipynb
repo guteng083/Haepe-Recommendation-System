{
  "cells": [
    {
      "cell_type": "markdown",
      "metadata": {
        "id": "view-in-github",
        "colab_type": "text"
      },
      "source": [
        "<a href=\"https://colab.research.google.com/github/guteng083/Haepe-Recommendation-System/blob/main/Haepe.ipynb\" target=\"_parent\"><img src=\"https://colab.research.google.com/assets/colab-badge.svg\" alt=\"Open In Colab\"/></a>"
      ]
    },
    {
      "cell_type": "code",
      "execution_count": 93,
      "metadata": {
        "colab": {
          "base_uri": "https://localhost:8080/"
        },
        "id": "p2dQsHI3_N8K",
        "outputId": "117fbeae-f6b6-41c8-e93a-ae2605cfa0d1"
      },
      "outputs": [
        {
          "output_type": "execute_result",
          "data": {
            "text/plain": [
              "((222, 45), (222,))"
            ]
          },
          "metadata": {},
          "execution_count": 93
        }
      ],
      "source": [
        "import tensorflow as tf\n",
        "\n",
        "import matplotlib.pyplot as plt\n",
        "import numpy as np\n",
        "import pandas as pd\n",
        "from sklearn.model_selection import train_test_split\n",
        "from sklearn.preprocessing import LabelEncoder\n",
        "\n",
        "data = pd.read_csv('cemara_dataset.csv')\n",
        "data = data.drop(['Timestamp'], axis=1)\n",
        "data = data.dropna(axis=0)\n",
        "x = data.drop(['Aktivitas'], axis=1)\n",
        "y = data['Aktivitas']\n",
        "\n",
        "le = LabelEncoder()\n",
        "x = pd.get_dummies(x)\n",
        "y = le.fit_transform(y)\n",
        "x.shape, y.shape"
      ]
    },
    {
      "cell_type": "markdown",
      "metadata": {
        "id": "rphS2rMIymyZ"
      },
      "source": [
        "### Mendefenisikan arsitektur fully connected layer\n",
        "pendefenisian arsitektur fully connected neural network menggunakan API fungsi sequential() "
      ]
    },
    {
      "cell_type": "code",
      "execution_count": 94,
      "metadata": {
        "id": "MMZsbjAkDKpU"
      },
      "outputs": [],
      "source": [
        "def build_fc_model():\n",
        "  fc_model = tf.keras.Sequential([\n",
        "\n",
        "      tf.keras.layers.Flatten(),\n",
        "      tf.keras.layers.Dense(46, activation=tf.nn.relu, input_shape=(46,)),\n",
        "      tf.keras.layers.Dense(64, activation=tf.nn.relu),\n",
        "      tf.keras.layers.Dense(128, activation=tf.nn.relu),\n",
        "      tf.keras.layers.Dense(1, activation=tf.nn.sigmoid) \n",
        "      \n",
        "  ])\n",
        "  return fc_model\n",
        "\n",
        "model = build_fc_model()"
      ]
    },
    {
      "cell_type": "markdown",
      "metadata": {
        "id": "aU3AQxP76vkV"
      },
      "source": [
        "###Melakukan compile dengan menggunakan Optimizer Adam dan learning rate=0.001, loss\"MSE\" dan metrics \"MAE\""
      ]
    },
    {
      "cell_type": "code",
      "execution_count": 95,
      "metadata": {
        "id": "Lhan11blCaW7"
      },
      "outputs": [],
      "source": [
        "model.compile(optimizer=tf.keras.optimizers.Adam(learning_rate=0.001), \n",
        "              loss=tf.keras.losses.MeanAbsoluteError(),\n",
        "              metrics=[tf.keras.metrics.RootMeanSquaredError(name='RMSE')])\n"
      ]
    },
    {
      "cell_type": "markdown",
      "metadata": {
        "id": "ajx2CaM47BxE"
      },
      "source": [
        "###Training Data"
      ]
    },
    {
      "cell_type": "code",
      "execution_count": 96,
      "metadata": {
        "colab": {
          "base_uri": "https://localhost:8080/"
        },
        "id": "EFMbIqIvQ2X0",
        "outputId": "4375a7a3-492a-4a17-9018-fbf8d97d29cb"
      },
      "outputs": [
        {
          "output_type": "stream",
          "name": "stdout",
          "text": [
            "Epoch 1/20\n",
            "4/4 [==============================] - 1s 49ms/step - loss: 2.5942 - RMSE: 3.2618 - val_loss: 2.5204 - val_RMSE: 2.9827\n",
            "Epoch 2/20\n",
            "4/4 [==============================] - 0s 10ms/step - loss: 2.5199 - RMSE: 3.1939 - val_loss: 2.4452 - val_RMSE: 2.9105\n",
            "Epoch 3/20\n",
            "4/4 [==============================] - 0s 9ms/step - loss: 2.4445 - RMSE: 3.1224 - val_loss: 2.3696 - val_RMSE: 2.8384\n",
            "Epoch 4/20\n",
            "4/4 [==============================] - 0s 15ms/step - loss: 2.3684 - RMSE: 3.0569 - val_loss: 2.2980 - val_RMSE: 2.7702\n",
            "Epoch 5/20\n",
            "4/4 [==============================] - 0s 17ms/step - loss: 2.2988 - RMSE: 2.9948 - val_loss: 2.2395 - val_RMSE: 2.7142\n",
            "Epoch 6/20\n",
            "4/4 [==============================] - 0s 10ms/step - loss: 2.2428 - RMSE: 2.9456 - val_loss: 2.2003 - val_RMSE: 2.6762\n",
            "Epoch 7/20\n",
            "4/4 [==============================] - 0s 10ms/step - loss: 2.2072 - RMSE: 2.9145 - val_loss: 2.1800 - val_RMSE: 2.6562\n",
            "Epoch 8/20\n",
            "4/4 [==============================] - 0s 15ms/step - loss: 2.1886 - RMSE: 2.8983 - val_loss: 2.1711 - val_RMSE: 2.6472\n",
            "Epoch 9/20\n",
            "4/4 [==============================] - 0s 10ms/step - loss: 2.1809 - RMSE: 2.8918 - val_loss: 2.1673 - val_RMSE: 2.6434\n",
            "Epoch 10/20\n",
            "4/4 [==============================] - 0s 10ms/step - loss: 2.1775 - RMSE: 2.8888 - val_loss: 2.1658 - val_RMSE: 2.6418\n",
            "Epoch 11/20\n",
            "4/4 [==============================] - 0s 15ms/step - loss: 2.1759 - RMSE: 2.8874 - val_loss: 2.1651 - val_RMSE: 2.6411\n",
            "Epoch 12/20\n",
            "4/4 [==============================] - 0s 9ms/step - loss: 2.1752 - RMSE: 2.8869 - val_loss: 2.1648 - val_RMSE: 2.6407\n",
            "Epoch 13/20\n",
            "4/4 [==============================] - 0s 12ms/step - loss: 2.1749 - RMSE: 2.8866 - val_loss: 2.1646 - val_RMSE: 2.6406\n",
            "Epoch 14/20\n",
            "4/4 [==============================] - 0s 16ms/step - loss: 2.1747 - RMSE: 2.8864 - val_loss: 2.1645 - val_RMSE: 2.6405\n",
            "Epoch 15/20\n",
            "4/4 [==============================] - 0s 10ms/step - loss: 2.1746 - RMSE: 2.8863 - val_loss: 2.1645 - val_RMSE: 2.6404\n",
            "Epoch 16/20\n",
            "4/4 [==============================] - 0s 10ms/step - loss: 2.1745 - RMSE: 2.8863 - val_loss: 2.1644 - val_RMSE: 2.6404\n",
            "Epoch 17/20\n",
            "4/4 [==============================] - 0s 9ms/step - loss: 2.1745 - RMSE: 2.8863 - val_loss: 2.1644 - val_RMSE: 2.6403\n",
            "Epoch 18/20\n",
            "4/4 [==============================] - 0s 9ms/step - loss: 2.1744 - RMSE: 2.8862 - val_loss: 2.1644 - val_RMSE: 2.6403\n",
            "Epoch 19/20\n",
            "4/4 [==============================] - 0s 9ms/step - loss: 2.1744 - RMSE: 2.8862 - val_loss: 2.1643 - val_RMSE: 2.6403\n",
            "Epoch 20/20\n",
            "4/4 [==============================] - 0s 9ms/step - loss: 2.1744 - RMSE: 2.8862 - val_loss: 2.1643 - val_RMSE: 2.6403\n"
          ]
        }
      ],
      "source": [
        "BATCH_SIZE = 50\n",
        "EPOCHS = 20\n",
        "X_train, X_test, y_train, y_test = train_test_split(x, y, test_size=0.3, random_state=42)\n",
        "history = model.fit(X_train, y_train,\n",
        "                    validation_data=(X_test, y_test),\n",
        "                    epochs=EPOCHS,\n",
        "                    batch_size=BATCH_SIZE)"
      ]
    },
    {
      "cell_type": "markdown",
      "metadata": {
        "id": "Rj7mxZ8o7MIU"
      },
      "source": [
        "##Menampilkan hasil"
      ]
    },
    {
      "cell_type": "code",
      "execution_count": 98,
      "metadata": {
        "colab": {
          "base_uri": "https://localhost:8080/",
          "height": 295
        },
        "id": "VflXLEeECaXC",
        "outputId": "5dbcc96e-6746-4e8b-fa7b-f618a89ec194"
      },
      "outputs": [
        {
          "output_type": "display_data",
          "data": {
            "text/plain": [
              "<Figure size 432x288 with 1 Axes>"
            ],
            "image/png": "[encoded data removed]"
          },
          "metadata": {
            "needs_background": "light"
          }
        }
      ],
      "source": [
        "plt.plot(history.history['RMSE'])\n",
        "plt.plot(history.history['val_RMSE'])\n",
        "plt.title('model_metrics')\n",
        "plt.ylabel('root_mean_squared_error')\n",
        "plt.xlabel('epoch')\n",
        "plt.legend(['train', 'test'], loc='upper left')\n",
        "plt.show()"
      ]
    },
    {
      "cell_type": "code",
      "source": [
        "model.save('haepe.h5')"
      ],
      "metadata": {
        "id": "kBNyzH2TINcp"
      },
      "execution_count": null,
      "outputs": []
    },
    {
      "cell_type": "code",
      "execution_count": null,
      "metadata": {
        "id": "wdXV-5bB7OHQ",
        "outputId": "e8d63dc4-d197-4f19-c157-765939ffd258"
      },
      "outputs": [
        {
          "name": "stdout",
          "output_type": "stream",
          "text": [
            "INFO:tensorflow:Assets written to: C:\\Users\\RIZKIP~1\\AppData\\Local\\Temp\\tmpu0x31rhd\\assets\n"
          ]
        },
        {
          "data": {
            "text/plain": [
              "51480"
            ]
          },
          "execution_count": 7,
          "metadata": {},
          "output_type": "execute_result"
        }
      ],
      "source": [
        "import pathlib\n",
        "converter = tf.lite.TFLiteConverter.from_keras_model(model)\n",
        "tflite_model = converter.convert()\n",
        "\n",
        "tflite_file = pathlib.Path('haepe.tflite')\n",
        "tflite_file.write_bytes(tflite_model)"
      ]
    }
  ],
  "metadata": {
    "accelerator": "GPU",
    "colab": {
      "collapsed_sections": [],
      "name": "Haepe.ipynb",
      "provenance": [],
      "include_colab_link": true
    },
    "interpreter": {
      "hash": "fd88e866c21503d77d8f2119b6f18787ed3cf03b7e87e5446f4f2c19f07ceb29"
    },
    "kernelspec": {
      "display_name": "Python 3.10.4 64-bit",
      "language": "python",
      "name": "python3"
    },
    "language_info": {
      "codemirror_mode": {
        "name": "ipython",
        "version": 3
      },
      "file_extension": ".py",
      "mimetype": "text/x-python",
      "name": "python",
      "nbconvert_exporter": "python",
      "pygments_lexer": "ipython3",
      "version": "3.10.4"
    }
  },
  "nbformat": 4,
  "nbformat_minor": 0
}